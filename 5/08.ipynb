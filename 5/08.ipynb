{
  "nbformat": 4,
  "nbformat_minor": 0,
  "metadata": {
    "colab": {
      "provenance": [],
      "authorship_tag": "ABX9TyMa2RSdHN49ykiENzlUVa1I",
      "include_colab_link": true
    },
    "kernelspec": {
      "name": "python3",
      "display_name": "Python 3"
    },
    "language_info": {
      "name": "python"
    }
  },
  "cells": [
    {
      "cell_type": "markdown",
      "metadata": {
        "id": "view-in-github",
        "colab_type": "text"
      },
      "source": [
        "<a href=\"https://colab.research.google.com/github/giester/day1/blob/main/5/08.ipynb\" target=\"_parent\"><img src=\"https://colab.research.google.com/assets/colab-badge.svg\" alt=\"Open In Colab\"/></a>"
      ]
    },
    {
      "cell_type": "markdown",
      "source": [
        "5/8 class inheritance"
      ],
      "metadata": {
        "id": "7dDv7cGAgebq"
      }
    },
    {
      "cell_type": "code",
      "execution_count": 5,
      "metadata": {
        "id": "PgdgS2Eub3Id",
        "colab": {
          "base_uri": "https://localhost:8080/"
        },
        "outputId": "609a2929-3380-439d-a8fc-6a1a2a788981"
      },
      "outputs": [
        {
          "output_type": "stream",
          "name": "stdout",
          "text": [
            "present speed : 10\n"
          ]
        }
      ],
      "source": [
        "class car:\n",
        "  speed = 0\n",
        "  def upspeed(self,value):\n",
        "    self.speed += value\n",
        "\n",
        "    print(\"현재속도(수퍼 클래스) : %d\" %self.speed)\n",
        "\n",
        "class sedan(car): #스피드 0인걸 상속받음 상속기능\n",
        "  def upspeed(self, value):\n",
        "    self.speed += value\n",
        "\n",
        "    if self.speed > 150:\n",
        "      self.speed = 150\n",
        "\n",
        "    print(\"present speed : %d\" %self.speed)\n",
        "\n",
        "mycar = sedan()\n",
        "mycar.upspeed(10)"
      ]
    },
    {
      "cell_type": "code",
      "source": [
        "xn = 2\n",
        "\n",
        "for _ in range(10):\n",
        "    xnp = 0.5*(xn+2/xn)\n",
        "    xn = xnp\n",
        "    print(xnp)"
      ],
      "metadata": {
        "colab": {
          "base_uri": "https://localhost:8080/"
        },
        "id": "z7JaO2_pk8LL",
        "outputId": "2106d839-a562-478f-a534-418497736d8b"
      },
      "execution_count": 13,
      "outputs": [
        {
          "output_type": "stream",
          "name": "stdout",
          "text": [
            "1.5\n",
            "1.4166666666666665\n",
            "1.4142156862745097\n",
            "1.4142135623746899\n",
            "1.414213562373095\n",
            "1.414213562373095\n",
            "1.414213562373095\n",
            "1.414213562373095\n",
            "1.414213562373095\n",
            "1.414213562373095\n"
          ]
        }
      ]
    }
  ]
}